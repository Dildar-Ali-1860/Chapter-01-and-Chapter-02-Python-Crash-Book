{
 "cells": [
  {
   "cell_type": "code",
   "execution_count": 2,
   "id": "94ee185b",
   "metadata": {},
   "outputs": [
    {
     "name": "stdout",
     "output_type": "stream",
     "text": [
      "Hello Python interpreter!\n"
     ]
    }
   ],
   "source": [
    "#Name: DIldar Ali\n",
    "#Date: 21/June/2022\n",
    "\n",
    "print(\"Hello Python interpreter!\") \n",
    " \n"
   ]
  },
  {
   "cell_type": "code",
   "execution_count": 3,
   "id": "49defe2b",
   "metadata": {},
   "outputs": [
    {
     "name": "stdout",
     "output_type": "stream",
     "text": [
      "Hello World!\n"
     ]
    }
   ],
   "source": [
    "print(\"Hello World!\")"
   ]
  },
  {
   "cell_type": "code",
   "execution_count": 73,
   "id": "a21f034c",
   "metadata": {},
   "outputs": [
    {
     "name": "stdout",
     "output_type": "stream",
     "text": [
      "Hello pyhton!\n"
     ]
    }
   ],
   "source": [
    "message=\"Hello pyhton!\"\n",
    "print(message)"
   ]
  },
  {
   "cell_type": "code",
   "execution_count": 74,
   "id": "ddf91393",
   "metadata": {},
   "outputs": [
    {
     "name": "stdout",
     "output_type": "stream",
     "text": [
      "Hello Pyhton Crash Book!\n"
     ]
    }
   ],
   "source": [
    "message=\"Hello Pyhton Crash Book!\"\n",
    "print(message)"
   ]
  },
  {
   "cell_type": "code",
   "execution_count": 6,
   "id": "3fffa9af",
   "metadata": {},
   "outputs": [
    {
     "name": "stdout",
     "output_type": "stream",
     "text": [
      "Dildar Ali\n"
     ]
    }
   ],
   "source": [
    "#Task\n",
    "name=\"Dildar Ali\"\n",
    "print(name)"
   ]
  },
  {
   "cell_type": "code",
   "execution_count": 8,
   "id": "68c2552f",
   "metadata": {},
   "outputs": [
    {
     "name": "stdout",
     "output_type": "stream",
     "text": [
      "Name: Dildar Ali\n",
      "New Name: Baloch\n"
     ]
    }
   ],
   "source": [
    "name = \"Dildar Ali\"\n",
    "print('Name:',name)\n",
    "\n",
    "#modified name\n",
    "name=\"Baloch\"\n",
    "print(\"New Name:\",name)"
   ]
  },
  {
   "cell_type": "code",
   "execution_count": 10,
   "id": "ba7aada3",
   "metadata": {},
   "outputs": [
    {
     "data": {
      "text/plain": [
       "'I told my friend, \"Python is my favorite language!\"'"
      ]
     },
     "execution_count": 10,
     "metadata": {},
     "output_type": "execute_result"
    }
   ],
   "source": [
    "'I told my friend, \"Python is my favorite language!\"'\n",
    "#\"The language 'Python' is named after Monty Python, not the snake.\"\n",
    "#\"One of Python's strengths is its diverse and supportive community.\""
   ]
  },
  {
   "cell_type": "code",
   "execution_count": 11,
   "id": "fd9bfa94",
   "metadata": {},
   "outputs": [
    {
     "data": {
      "text/plain": [
       "\"The language 'Python' is named after Monty Python, not the snake.\""
      ]
     },
     "execution_count": 11,
     "metadata": {},
     "output_type": "execute_result"
    }
   ],
   "source": [
    "#'I told my friend, \"Python is my favorite language!\"'\n",
    "\"The language 'Python' is named after Monty Python, not the snake.\"\n",
    "#\"One of Python's strengths is its diverse and supportive community.\""
   ]
  },
  {
   "cell_type": "code",
   "execution_count": 12,
   "id": "414f0ae5",
   "metadata": {},
   "outputs": [
    {
     "data": {
      "text/plain": [
       "\"One of Python's strengths is its diverse and supportive community.\""
      ]
     },
     "execution_count": 12,
     "metadata": {},
     "output_type": "execute_result"
    }
   ],
   "source": [
    "#'I told my friend, \"Python is my favorite language!\"'\n",
    "#\"The language 'Python' is named after Monty Python, not the snake.\"\n",
    "\"One of Python's strengths is its diverse and supportive community.\""
   ]
  },
  {
   "cell_type": "code",
   "execution_count": 15,
   "id": "2b5153cb",
   "metadata": {},
   "outputs": [
    {
     "name": "stdout",
     "output_type": "stream",
     "text": [
      "Dildar Ali\n"
     ]
    }
   ],
   "source": [
    "name=\"dildar ali\"\n",
    "print(name.title())"
   ]
  },
  {
   "cell_type": "code",
   "execution_count": 16,
   "id": "b7295d85",
   "metadata": {},
   "outputs": [
    {
     "data": {
      "text/plain": [
       "'dildar ali'"
      ]
     },
     "execution_count": 16,
     "metadata": {},
     "output_type": "execute_result"
    }
   ],
   "source": [
    "name"
   ]
  },
  {
   "cell_type": "code",
   "execution_count": 17,
   "id": "53be562b",
   "metadata": {},
   "outputs": [
    {
     "name": "stdout",
     "output_type": "stream",
     "text": [
      "dildar ali\n",
      "DILDAR ALI\n"
     ]
    }
   ],
   "source": [
    "print(name.lower())\n",
    "print(name.upper())"
   ]
  },
  {
   "cell_type": "code",
   "execution_count": 20,
   "id": "5d953e75",
   "metadata": {},
   "outputs": [
    {
     "name": "stdout",
     "output_type": "stream",
     "text": [
      "Dildar Ali\n"
     ]
    }
   ],
   "source": [
    "first_name=\"Dildar\"\n",
    "last_name=\"Ali\"\n",
    "full_name= first_name+ \" \"+last_name\n",
    "print(full_name)"
   ]
  },
  {
   "cell_type": "code",
   "execution_count": 22,
   "id": "76660e92",
   "metadata": {},
   "outputs": [
    {
     "data": {
      "text/plain": [
       "'Dildar Ali'"
      ]
     },
     "execution_count": 22,
     "metadata": {},
     "output_type": "execute_result"
    }
   ],
   "source": [
    "full_name"
   ]
  },
  {
   "cell_type": "code",
   "execution_count": 24,
   "id": "47e4e8fc",
   "metadata": {},
   "outputs": [
    {
     "name": "stdout",
     "output_type": "stream",
     "text": [
      "Hello , Dildar Ali !\n"
     ]
    }
   ],
   "source": [
    "print(\"Hello ,\", full_name.title(),\"!\")"
   ]
  },
  {
   "cell_type": "code",
   "execution_count": 25,
   "id": "63dc3350",
   "metadata": {},
   "outputs": [
    {
     "name": "stdout",
     "output_type": "stream",
     "text": [
      "('Hello ,', 'Dildar Ali', '!')\n"
     ]
    }
   ],
   "source": [
    "message=(\"Hello ,\", full_name.title(),\"!\")\n",
    "print(message)"
   ]
  },
  {
   "cell_type": "code",
   "execution_count": 27,
   "id": "c755286b",
   "metadata": {},
   "outputs": [
    {
     "name": "stdout",
     "output_type": "stream",
     "text": [
      "Languages:\n",
      "Python\n",
      "C\n",
      "JavaScript\n",
      "C++\n"
     ]
    }
   ],
   "source": [
    " print(\"Languages:\\nPython\\nC\\nJavaScript\\nC++\")"
   ]
  },
  {
   "cell_type": "code",
   "execution_count": 33,
   "id": "6ff17243",
   "metadata": {},
   "outputs": [
    {
     "name": "stdout",
     "output_type": "stream",
     "text": [
      " Python\n"
     ]
    }
   ],
   "source": [
    "language=' Python '\n",
    "print(language.rstrip())"
   ]
  },
  {
   "cell_type": "code",
   "execution_count": 34,
   "id": "663dce77",
   "metadata": {},
   "outputs": [
    {
     "name": "stdout",
     "output_type": "stream",
     "text": [
      "Python \n"
     ]
    }
   ],
   "source": [
    "print(language.lstrip())"
   ]
  },
  {
   "cell_type": "code",
   "execution_count": 35,
   "id": "edfc834c",
   "metadata": {},
   "outputs": [
    {
     "name": "stdout",
     "output_type": "stream",
     "text": [
      "Python\n"
     ]
    }
   ],
   "source": [
    "print(language.strip())"
   ]
  },
  {
   "cell_type": "code",
   "execution_count": 36,
   "id": "3d413d81",
   "metadata": {},
   "outputs": [
    {
     "name": "stdout",
     "output_type": "stream",
     "text": [
      "My friend's name's Bilal \n"
     ]
    }
   ],
   "source": [
    "message=\"My friend's name's Bilal \"\n",
    "print(message)"
   ]
  },
  {
   "cell_type": "code",
   "execution_count": 40,
   "id": "e5c365d6",
   "metadata": {},
   "outputs": [
    {
     "name": "stdout",
     "output_type": "stream",
     "text": [
      "Hello Eric , would you like to learn some Python today?\n"
     ]
    }
   ],
   "source": [
    "#Task\n",
    "#2.3\n",
    "#Store a person’s name in a variable, and print a message to that person. Your message should be simple, such as, “Hello Eric,would you like to learn some Python today?”\n",
    "\n",
    "name=\"eric\"\n",
    "print(\"Hello\",name.title(),\", would you like to learn some Python today?\")"
   ]
  },
  {
   "cell_type": "code",
   "execution_count": 42,
   "id": "f0680dc4",
   "metadata": {},
   "outputs": [
    {
     "name": "stdout",
     "output_type": "stream",
     "text": [
      "Lowercase dildar\n",
      "Uppercase DILDAR\n",
      "Titlecase Dildar\n"
     ]
    }
   ],
   "source": [
    "#2.4\n",
    "#Name Cases: Store a person’s name in a variable, and then print that person’s name in lowercase, uppercase, and titlecase\n",
    "name=\"Dildar\"\n",
    "print(\"Lowercase\",name.lower())\n",
    "print(\"Uppercase\",name.upper())\n",
    "print(\"Titlecase\",name.title())"
   ]
  },
  {
   "cell_type": "code",
   "execution_count": 44,
   "id": "63d1c9b9",
   "metadata": {},
   "outputs": [
    {
     "name": "stdout",
     "output_type": "stream",
     "text": [
      "Albert Einstein once said, \"A person who never made a misrtake never tried anything new.\"\n"
     ]
    }
   ],
   "source": [
    "#2.5\n",
    "#Famous Quote: Find a quote from a famous person you admire. Print the quote and the name of its author. Your output should look something like the following, including the quotation marks:\n",
    "#Albert Einstein once said, “A person who never made a mistake never tried anything new.”\n",
    "\n",
    "name=\"albert einstein\"\n",
    "print(name.title(),'once said, \"A person who never made a misrtake never tried anything new.\"')"
   ]
  },
  {
   "cell_type": "code",
   "execution_count": 45,
   "id": "d48846dd",
   "metadata": {},
   "outputs": [
    {
     "name": "stdout",
     "output_type": "stream",
     "text": [
      "('Albert Einstein', 'once said, \"A person who never made a misrtake never tried anything new.\"')\n"
     ]
    }
   ],
   "source": [
    "#2.6\n",
    "#Famous Quote 2: Repeat Exercise 2-5, but this time store the famous person’s name in a variable called famous_person. Then compose your message and store it in a new variable called message. Print your message.\n",
    "famous_person=\"Albert Einstein\"\n",
    "message=(famous_person.title(),'once said, \"A person who never made a misrtake never tried anything new.\"')\n",
    "print(message)"
   ]
  },
  {
   "cell_type": "code",
   "execution_count": 48,
   "id": "49aab369",
   "metadata": {},
   "outputs": [
    {
     "name": "stdout",
     "output_type": "stream",
     "text": [
      " Dildar \n"
     ]
    }
   ],
   "source": [
    "#2.7\n",
    "#Stripping Names: Store a person’s name, and include some whitespace characters at the beginning and end of the name. Make sure you use each character combination, \"\\t\" and \"\\n\", at least once.\n",
    "#Print the name once, so the whitespace around the name is displayed.\n",
    "#Then print the name using each of the three stripping functions, lstrip(), rstrip(), and strip()\n",
    "name=' Dildar '\n",
    "print(name)"
   ]
  },
  {
   "cell_type": "code",
   "execution_count": 49,
   "id": "70122a35",
   "metadata": {},
   "outputs": [
    {
     "name": "stdout",
     "output_type": "stream",
     "text": [
      " Dildar\n",
      "Dildar \n",
      "Dildar\n"
     ]
    }
   ],
   "source": [
    "print(name.rstrip())\n",
    "print(name.lstrip())\n",
    "print(name.strip())"
   ]
  },
  {
   "cell_type": "code",
   "execution_count": 50,
   "id": "83b17d49",
   "metadata": {},
   "outputs": [
    {
     "data": {
      "text/plain": [
       "6"
      ]
     },
     "execution_count": 50,
     "metadata": {},
     "output_type": "execute_result"
    }
   ],
   "source": [
    "1+5"
   ]
  },
  {
   "cell_type": "code",
   "execution_count": 51,
   "id": "de5dce1e",
   "metadata": {},
   "outputs": [
    {
     "data": {
      "text/plain": [
       "4"
      ]
     },
     "execution_count": 51,
     "metadata": {},
     "output_type": "execute_result"
    }
   ],
   "source": [
    "8-4"
   ]
  },
  {
   "cell_type": "code",
   "execution_count": 52,
   "id": "fa474da8",
   "metadata": {},
   "outputs": [
    {
     "data": {
      "text/plain": [
       "16"
      ]
     },
     "execution_count": 52,
     "metadata": {},
     "output_type": "execute_result"
    }
   ],
   "source": [
    "2*8"
   ]
  },
  {
   "cell_type": "code",
   "execution_count": 53,
   "id": "b4e27fc9",
   "metadata": {},
   "outputs": [
    {
     "data": {
      "text/plain": [
       "2.0"
      ]
     },
     "execution_count": 53,
     "metadata": {},
     "output_type": "execute_result"
    }
   ],
   "source": [
    "4/2"
   ]
  },
  {
   "cell_type": "code",
   "execution_count": 54,
   "id": "92af2e9d",
   "metadata": {},
   "outputs": [
    {
     "data": {
      "text/plain": [
       "2"
      ]
     },
     "execution_count": 54,
     "metadata": {},
     "output_type": "execute_result"
    }
   ],
   "source": [
    "4//2"
   ]
  },
  {
   "cell_type": "code",
   "execution_count": 55,
   "id": "04e11ea0",
   "metadata": {},
   "outputs": [
    {
     "data": {
      "text/plain": [
       "14"
      ]
     },
     "execution_count": 55,
     "metadata": {},
     "output_type": "execute_result"
    }
   ],
   "source": [
    "2+3*4"
   ]
  },
  {
   "cell_type": "code",
   "execution_count": 56,
   "id": "cc883d55",
   "metadata": {},
   "outputs": [
    {
     "data": {
      "text/plain": [
       "20"
      ]
     },
     "execution_count": 56,
     "metadata": {},
     "output_type": "execute_result"
    }
   ],
   "source": [
    "(2+3)*4"
   ]
  },
  {
   "cell_type": "code",
   "execution_count": 58,
   "id": "6f4a27ad",
   "metadata": {},
   "outputs": [
    {
     "data": {
      "text/plain": [
       "2.1"
      ]
     },
     "execution_count": 58,
     "metadata": {},
     "output_type": "execute_result"
    }
   ],
   "source": [
    "0.1 + 2"
   ]
  },
  {
   "cell_type": "code",
   "execution_count": 59,
   "id": "a007bdc3",
   "metadata": {},
   "outputs": [
    {
     "data": {
      "text/plain": [
       "1.5999999999999999"
      ]
     },
     "execution_count": 59,
     "metadata": {},
     "output_type": "execute_result"
    }
   ],
   "source": [
    "1.4+0.2"
   ]
  },
  {
   "cell_type": "code",
   "execution_count": 60,
   "id": "d0f47896",
   "metadata": {},
   "outputs": [
    {
     "data": {
      "text/plain": [
       "6.300000000000001"
      ]
     },
     "execution_count": 60,
     "metadata": {},
     "output_type": "execute_result"
    }
   ],
   "source": [
    "2.1*3"
   ]
  },
  {
   "cell_type": "code",
   "execution_count": 61,
   "id": "b139e3a5",
   "metadata": {},
   "outputs": [
    {
     "data": {
      "text/plain": [
       "0.020000000000000004"
      ]
     },
     "execution_count": 61,
     "metadata": {},
     "output_type": "execute_result"
    }
   ],
   "source": [
    "0.1*0.2"
   ]
  },
  {
   "cell_type": "code",
   "execution_count": 65,
   "id": "57438deb",
   "metadata": {},
   "outputs": [
    {
     "name": "stdout",
     "output_type": "stream",
     "text": [
      "Happy 22nd Birthday Dildar!\n"
     ]
    }
   ],
   "source": [
    "age=22\n",
    "message=\"Happy \"+str(age) + \"nd Birthday Dildar!\"\n",
    "print(message)"
   ]
  },
  {
   "cell_type": "code",
   "execution_count": 68,
   "id": "04c0565c",
   "metadata": {},
   "outputs": [
    {
     "name": "stdout",
     "output_type": "stream",
     "text": [
      "Happy 22nd Birthday Dildar!\n"
     ]
    }
   ],
   "source": [
    "name=\"Dildar\"\n",
    "age=22\n",
    "message=\"Happy \"+str(age) + \"nd Birthday \"+name+\"!\"\n",
    "print(message)"
   ]
  },
  {
   "cell_type": "code",
   "execution_count": 69,
   "id": "f7726668",
   "metadata": {},
   "outputs": [
    {
     "name": "stdout",
     "output_type": "stream",
     "text": [
      "8\n",
      "8\n",
      "8\n",
      "8\n"
     ]
    }
   ],
   "source": [
    "#2.8\n",
    "#Number Eight: Write addition, subtraction, multiplication, and division operations that each result in the number 8.Be sure to enclose your operations in print statements to see the results. \n",
    "#You should create four lines that look like this:\n",
    "#print(5 + 3)\n",
    "\n",
    "print(2*4)\n",
    "print(16//2)\n",
    "print(6+2)\n",
    "\n",
    "print(10-2)"
   ]
  },
  {
   "cell_type": "code",
   "execution_count": 71,
   "id": "a2594173",
   "metadata": {},
   "outputs": [
    {
     "name": "stdout",
     "output_type": "stream",
     "text": [
      "My favourite number is 1860!\n"
     ]
    }
   ],
   "source": [
    "#2.9\n",
    "#Favorite Number: Store your favorite number in a variable. Then, using that variable, create a message that reveals your favorite number. Print that message.\n",
    "\n",
    "fav_number=1860\n",
    "message=\"My favourite number is \"+str(fav_number)+\"!\"\n",
    "print(message)"
   ]
  },
  {
   "cell_type": "code",
   "execution_count": 72,
   "id": "b6141806",
   "metadata": {},
   "outputs": [
    {
     "name": "stdout",
     "output_type": "stream",
     "text": [
      "My name is Dildar!\n"
     ]
    }
   ],
   "source": [
    "#tell your name to everyone!\n",
    "print(\"My name is Dildar!\")"
   ]
  },
  {
   "cell_type": "code",
   "execution_count": null,
   "id": "ecb7b11a",
   "metadata": {},
   "outputs": [],
   "source": [
    "\n",
    "#     THE END!!!        #"
   ]
  }
 ],
 "metadata": {
  "kernelspec": {
   "display_name": "Python 3 (ipykernel)",
   "language": "python",
   "name": "python3"
  },
  "language_info": {
   "codemirror_mode": {
    "name": "ipython",
    "version": 3
   },
   "file_extension": ".py",
   "mimetype": "text/x-python",
   "name": "python",
   "nbconvert_exporter": "python",
   "pygments_lexer": "ipython3",
   "version": "3.9.12"
  }
 },
 "nbformat": 4,
 "nbformat_minor": 5
}
